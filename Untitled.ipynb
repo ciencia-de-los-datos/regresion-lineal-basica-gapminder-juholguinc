{
 "cells": [
  {
   "cell_type": "markdown",
   "metadata": {},
   "source": [
    "# pregunta 1"
   ]
  },
  {
   "cell_type": "code",
   "execution_count": 47,
   "metadata": {},
   "outputs": [],
   "source": [
    "import numpy as np\n",
    "import pandas as pd\n",
    "\n",
    "\n",
    "def pregunta_01():\n",
    "    \"\"\"\n",
    "    En este punto se realiza la lectura de conjuntos de datos.\n",
    "    Complete el código presentado a continuación.\n",
    "    \"\"\"\n",
    "    # Lea el archivo `gm_2008_region.csv` y asignelo al DataFrame `df`\n",
    "    df = pd.read_csv(\n",
    "    \"gm_2008_region.csv\",\n",
    "    encoding = 'utf-8'\n",
    "    )\n",
    "\n",
    "    # Asigne la columna \"life\" a `y` y la columna \"fertility\" a `X`\n",
    "    y = df['life']\n",
    "    X = df['fertility']\n",
    "\n",
    "    # Imprima las dimensiones de `y`\n",
    "    print (X.shape)\n",
    "    print (y.shape)\n",
    "\n",
    "    # Transforme `y` a un array de numpy usando reshape\n",
    "    y_reshaped = np.array(y)\n",
    "    X_reshaped = np.array(X)\n",
    "    y_reshaped = y_reshaped.reshape(y_reshaped.shape[0],1)\n",
    "    X_reshaped = X_reshaped.reshape(X_reshaped.shape[0],1)\n",
    "\n",
    "    # Imprima las nuevas dimensiones de `y`\n",
    "    print(y_reshaped.shape)\n",
    "\n",
    "    # Imprima las nuevas dimensiones de `X`\n",
    "    print(X_reshaped.shape)\n",
    "\n"
   ]
  },
  {
   "cell_type": "code",
   "execution_count": 48,
   "metadata": {},
   "outputs": [
    {
     "name": "stdout",
     "output_type": "stream",
     "text": [
      "(139,)\n",
      "(139,)\n",
      "(139, 1)\n",
      "(139, 1)\n"
     ]
    }
   ],
   "source": [
    "pregunta_01()"
   ]
  },
  {
   "cell_type": "code",
   "execution_count": 1,
   "metadata": {},
   "outputs": [],
   "source": [
    "import numpy as np\n",
    "import pandas as pd\n",
    "df = pd.read_csv(\n",
    "    \"gm_2008_region.csv\",\n",
    "    encoding = 'utf-8'\n",
    ")"
   ]
  },
  {
   "cell_type": "code",
   "execution_count": 2,
   "metadata": {},
   "outputs": [
    {
     "data": {
      "text/html": [
       "<div>\n",
       "<style scoped>\n",
       "    .dataframe tbody tr th:only-of-type {\n",
       "        vertical-align: middle;\n",
       "    }\n",
       "\n",
       "    .dataframe tbody tr th {\n",
       "        vertical-align: top;\n",
       "    }\n",
       "\n",
       "    .dataframe thead th {\n",
       "        text-align: right;\n",
       "    }\n",
       "</style>\n",
       "<table border=\"1\" class=\"dataframe\">\n",
       "  <thead>\n",
       "    <tr style=\"text-align: right;\">\n",
       "      <th></th>\n",
       "      <th>population</th>\n",
       "      <th>fertility</th>\n",
       "      <th>HIV</th>\n",
       "      <th>CO2</th>\n",
       "      <th>BMI_male</th>\n",
       "      <th>GDP</th>\n",
       "      <th>BMI_female</th>\n",
       "      <th>life</th>\n",
       "      <th>child_mortality</th>\n",
       "      <th>Region</th>\n",
       "    </tr>\n",
       "  </thead>\n",
       "  <tbody>\n",
       "    <tr>\n",
       "      <td>0</td>\n",
       "      <td>34811059.0</td>\n",
       "      <td>2.73</td>\n",
       "      <td>0.1</td>\n",
       "      <td>3.328945</td>\n",
       "      <td>24.59620</td>\n",
       "      <td>12314.0</td>\n",
       "      <td>129.9049</td>\n",
       "      <td>75.3</td>\n",
       "      <td>29.5</td>\n",
       "      <td>Middle East &amp; North Africa</td>\n",
       "    </tr>\n",
       "    <tr>\n",
       "      <td>1</td>\n",
       "      <td>19842251.0</td>\n",
       "      <td>6.43</td>\n",
       "      <td>2.0</td>\n",
       "      <td>1.474353</td>\n",
       "      <td>22.25083</td>\n",
       "      <td>7103.0</td>\n",
       "      <td>130.1247</td>\n",
       "      <td>58.3</td>\n",
       "      <td>192.0</td>\n",
       "      <td>Sub-Saharan Africa</td>\n",
       "    </tr>\n",
       "    <tr>\n",
       "      <td>2</td>\n",
       "      <td>40381860.0</td>\n",
       "      <td>2.24</td>\n",
       "      <td>0.5</td>\n",
       "      <td>4.785170</td>\n",
       "      <td>27.50170</td>\n",
       "      <td>14646.0</td>\n",
       "      <td>118.8915</td>\n",
       "      <td>75.5</td>\n",
       "      <td>15.4</td>\n",
       "      <td>America</td>\n",
       "    </tr>\n",
       "    <tr>\n",
       "      <td>3</td>\n",
       "      <td>2975029.0</td>\n",
       "      <td>1.40</td>\n",
       "      <td>0.1</td>\n",
       "      <td>1.804106</td>\n",
       "      <td>25.35542</td>\n",
       "      <td>7383.0</td>\n",
       "      <td>132.8108</td>\n",
       "      <td>72.5</td>\n",
       "      <td>20.0</td>\n",
       "      <td>Europe &amp; Central Asia</td>\n",
       "    </tr>\n",
       "    <tr>\n",
       "      <td>4</td>\n",
       "      <td>21370348.0</td>\n",
       "      <td>1.96</td>\n",
       "      <td>0.1</td>\n",
       "      <td>18.016313</td>\n",
       "      <td>27.56373</td>\n",
       "      <td>41312.0</td>\n",
       "      <td>117.3755</td>\n",
       "      <td>81.5</td>\n",
       "      <td>5.2</td>\n",
       "      <td>East Asia &amp; Pacific</td>\n",
       "    </tr>\n",
       "  </tbody>\n",
       "</table>\n",
       "</div>"
      ],
      "text/plain": [
       "   population  fertility  HIV        CO2  BMI_male      GDP  BMI_female  life  \\\n",
       "0  34811059.0       2.73  0.1   3.328945  24.59620  12314.0    129.9049  75.3   \n",
       "1  19842251.0       6.43  2.0   1.474353  22.25083   7103.0    130.1247  58.3   \n",
       "2  40381860.0       2.24  0.5   4.785170  27.50170  14646.0    118.8915  75.5   \n",
       "3   2975029.0       1.40  0.1   1.804106  25.35542   7383.0    132.8108  72.5   \n",
       "4  21370348.0       1.96  0.1  18.016313  27.56373  41312.0    117.3755  81.5   \n",
       "\n",
       "   child_mortality                      Region  \n",
       "0             29.5  Middle East & North Africa  \n",
       "1            192.0          Sub-Saharan Africa  \n",
       "2             15.4                     America  \n",
       "3             20.0       Europe & Central Asia  \n",
       "4              5.2         East Asia & Pacific  "
      ]
     },
     "execution_count": 2,
     "metadata": {},
     "output_type": "execute_result"
    }
   ],
   "source": [
    "df.head(5)"
   ]
  },
  {
   "cell_type": "code",
   "execution_count": 3,
   "metadata": {},
   "outputs": [],
   "source": [
    "y = df['life']\n",
    "X = df['fertility']"
   ]
  },
  {
   "cell_type": "code",
   "execution_count": 4,
   "metadata": {},
   "outputs": [
    {
     "name": "stdout",
     "output_type": "stream",
     "text": [
      "(139,)\n",
      "(139,)\n"
     ]
    },
    {
     "data": {
      "text/plain": [
       "0    2.73\n",
       "1    6.43\n",
       "2    2.24\n",
       "3    1.40\n",
       "4    1.96\n",
       "Name: fertility, dtype: float64"
      ]
     },
     "metadata": {},
     "output_type": "display_data"
    },
    {
     "data": {
      "text/plain": [
       "pandas.core.series.Series"
      ]
     },
     "metadata": {},
     "output_type": "display_data"
    },
    {
     "data": {
      "text/plain": [
       "0    75.3\n",
       "1    58.3\n",
       "2    75.5\n",
       "3    72.5\n",
       "4    81.5\n",
       "Name: life, dtype: float64"
      ]
     },
     "metadata": {},
     "output_type": "display_data"
    },
    {
     "data": {
      "text/plain": [
       "pandas.core.series.Series"
      ]
     },
     "metadata": {},
     "output_type": "display_data"
    }
   ],
   "source": [
    "print (X.shape)\n",
    "print (y.shape)\n",
    "display(\n",
    "    X.head(5),\n",
    "    type(X),\n",
    "    y.head(5),\n",
    "    type(y)\n",
    ")\n"
   ]
  },
  {
   "cell_type": "code",
   "execution_count": 5,
   "metadata": {},
   "outputs": [
    {
     "data": {
      "text/plain": [
       "(139, 1)"
      ]
     },
     "metadata": {},
     "output_type": "display_data"
    },
    {
     "data": {
      "text/plain": [
       "(139, 1)"
      ]
     },
     "metadata": {},
     "output_type": "display_data"
    }
   ],
   "source": [
    "y_reshaped = np.array(y)\n",
    "X_reshaped = np.array(X)\n",
    "y_reshaped = y_reshaped.reshape(y_reshaped.shape[0],1)\n",
    "X_reshaped = X_reshaped.reshape(X_reshaped.shape[0],1)\n",
    "#X_reshaped\n",
    "display(\n",
    "    y_reshaped.shape,\n",
    "    X_reshaped.shape\n",
    ")"
   ]
  },
  {
   "cell_type": "markdown",
   "metadata": {},
   "source": [
    "# pregunta 2"
   ]
  },
  {
   "cell_type": "code",
   "execution_count": 49,
   "metadata": {},
   "outputs": [],
   "source": [
    "def pregunta_02():\n",
    "    \"\"\"\n",
    "    En este punto se realiza la impresión de algunas estadísticas básicas\n",
    "    Complete el código presentado a continuación.\n",
    "    \"\"\"\n",
    "\n",
    "    # Lea el archivo `gm_2008_region.csv` y asignelo al DataFrame `df`\n",
    "    df = pd.read_csv(\n",
    "    \"gm_2008_region.csv\",\n",
    "    encoding = 'utf-8'\n",
    "    )\n",
    "\n",
    "    # Imprima las dimensiones del DataFrame\n",
    "    print(df.shape)\n",
    "\n",
    "    # Imprima la correlación entre las columnas `life` y `fertility` con 4 decimales.\n",
    "    print(round(np.corrcoef(df['life'],df['fertility'])[1][0], 4))\n",
    "\n",
    "    # Imprima la media de la columna `life` con 4 decimales.\n",
    "    print(round(df['life'].mean(),4))\n",
    "\n",
    "    # Imprima el tipo de dato de la columna `fertility`.\n",
    "    print(type(df['fertility']))\n",
    "\n",
    "    # Imprima la correlación entre las columnas `GDP` y `life` con 4 decimales.\n",
    "    print(round(np.corrcoef(df['GDP'],df['life'])[1][0], 4))\n"
   ]
  },
  {
   "cell_type": "code",
   "execution_count": 50,
   "metadata": {},
   "outputs": [
    {
     "name": "stdout",
     "output_type": "stream",
     "text": [
      "(139, 10)\n",
      "-0.7869\n",
      "69.6029\n",
      "<class 'pandas.core.series.Series'>\n",
      "0.629\n"
     ]
    }
   ],
   "source": [
    "pregunta_02()"
   ]
  },
  {
   "cell_type": "code",
   "execution_count": 17,
   "metadata": {},
   "outputs": [
    {
     "data": {
      "text/plain": [
       "(139, 10)"
      ]
     },
     "execution_count": 17,
     "metadata": {},
     "output_type": "execute_result"
    }
   ],
   "source": [
    "df.shape"
   ]
  },
  {
   "cell_type": "code",
   "execution_count": 6,
   "metadata": {},
   "outputs": [
    {
     "data": {
      "text/plain": [
       "-0.7869"
      ]
     },
     "execution_count": 6,
     "metadata": {},
     "output_type": "execute_result"
    }
   ],
   "source": [
    "round(np.corrcoef(df['life'],df['fertility'])[1][0], 4)\n"
   ]
  },
  {
   "cell_type": "code",
   "execution_count": 7,
   "metadata": {},
   "outputs": [
    {
     "data": {
      "text/plain": [
       "69.6029"
      ]
     },
     "execution_count": 7,
     "metadata": {},
     "output_type": "execute_result"
    }
   ],
   "source": [
    "round(df['life'].mean(),4)"
   ]
  },
  {
   "cell_type": "code",
   "execution_count": 9,
   "metadata": {},
   "outputs": [
    {
     "data": {
      "text/plain": [
       "dtype('float64')"
      ]
     },
     "metadata": {},
     "output_type": "display_data"
    },
    {
     "data": {
      "text/plain": [
       "pandas.core.series.Series"
      ]
     },
     "metadata": {},
     "output_type": "display_data"
    }
   ],
   "source": [
    "display(\n",
    "    df['fertility'].dtypes,\n",
    "    type(df['fertility']),\n",
    "    )"
   ]
  },
  {
   "cell_type": "code",
   "execution_count": 10,
   "metadata": {},
   "outputs": [
    {
     "data": {
      "text/plain": [
       "0.629"
      ]
     },
     "execution_count": 10,
     "metadata": {},
     "output_type": "execute_result"
    }
   ],
   "source": [
    "round(np.corrcoef(df['GDP'],df['life'])[1][0], 4)"
   ]
  },
  {
   "cell_type": "code",
   "execution_count": 52,
   "metadata": {},
   "outputs": [],
   "source": [
    "def pregunta_03():\n",
    "    \"\"\"\n",
    "    Entrenamiento del modelo sobre todo el conjunto de datos.\n",
    "    Complete el código presentado a continuación.\n",
    "    \"\"\"\n",
    "\n",
    "    # Lea el archivo `gm_2008_region.csv` y asignelo al DataFrame `df`\n",
    "    df = pd.read_csv(\n",
    "    \"gm_2008_region.csv\",\n",
    "    encoding = 'utf-8'\n",
    "    )\n",
    "    # Asigne a la variable los valores de la columna `fertility`\n",
    "    X_fertility = np.array(df['fertility']).reshape(-1,1)\n",
    "    y_life = np.array(df['life']).reshape(-1,1)\n",
    "\n",
    "    # Importe LinearRegression\n",
    "    from sklearn.linear_model import LinearRegression\n",
    "\n",
    "    # Cree una instancia del modelo de regresión lineal\n",
    "    reg = LinearRegression()\n",
    "    # Cree El espacio de predicción. Esto es, use linspace para crear\n",
    "    # un vector con valores entre el máximo y el mínimo de X_fertility\n",
    "    prediction_space = np.linspace(\n",
    "        X_fertility.min(),\n",
    "        X_fertility.max(),\n",
    "    ).reshape(-1,1)\n",
    "\n",
    "    # Entrene el modelo usando X_fertility y y_life\n",
    "    reg.fit(X_fertility, y_life)\n",
    "\n",
    "    # Compute las predicciones para el espacio de predicción\n",
    "    y_pred = reg.predict(prediction_space)\n",
    "\n",
    "    # Imprima el R^2 del modelo con 4 decimales\n",
    "    print(reg.score(X_fertility, y_life).round(4))"
   ]
  },
  {
   "cell_type": "code",
   "execution_count": 54,
   "metadata": {},
   "outputs": [
    {
     "name": "stdout",
     "output_type": "stream",
     "text": [
      "0.6192\n"
     ]
    }
   ],
   "source": [
    "pregunta_03()"
   ]
  },
  {
   "cell_type": "code",
   "execution_count": 11,
   "metadata": {},
   "outputs": [],
   "source": [
    "X_fertility = np.array(df['fertility']).reshape(-1,1)\n",
    "y_life = np.array(df['life']).reshape(-1,1)\n",
    "from sklearn.linear_model import LinearRegression"
   ]
  },
  {
   "cell_type": "code",
   "execution_count": 12,
   "metadata": {},
   "outputs": [],
   "source": [
    "prediction_space = np.linspace(\n",
    "        X_fertility.min(),\n",
    "        X_fertility.max(),\n",
    "    ).reshape(-1,1)"
   ]
  },
  {
   "cell_type": "code",
   "execution_count": 13,
   "metadata": {},
   "outputs": [
    {
     "data": {
      "text/plain": [
       "1.28"
      ]
     },
     "metadata": {},
     "output_type": "display_data"
    },
    {
     "data": {
      "text/plain": [
       "7.59"
      ]
     },
     "metadata": {},
     "output_type": "display_data"
    },
    {
     "data": {
      "text/plain": [
       "array([[1.28      ],\n",
       "       [1.40877551],\n",
       "       [1.53755102],\n",
       "       [1.66632653],\n",
       "       [1.79510204],\n",
       "       [1.92387755],\n",
       "       [2.05265306],\n",
       "       [2.18142857],\n",
       "       [2.31020408],\n",
       "       [2.43897959],\n",
       "       [2.5677551 ],\n",
       "       [2.69653061],\n",
       "       [2.82530612],\n",
       "       [2.95408163],\n",
       "       [3.08285714],\n",
       "       [3.21163265],\n",
       "       [3.34040816],\n",
       "       [3.46918367],\n",
       "       [3.59795918],\n",
       "       [3.72673469],\n",
       "       [3.8555102 ],\n",
       "       [3.98428571],\n",
       "       [4.11306122],\n",
       "       [4.24183673],\n",
       "       [4.37061224],\n",
       "       [4.49938776],\n",
       "       [4.62816327],\n",
       "       [4.75693878],\n",
       "       [4.88571429],\n",
       "       [5.0144898 ],\n",
       "       [5.14326531],\n",
       "       [5.27204082],\n",
       "       [5.40081633],\n",
       "       [5.52959184],\n",
       "       [5.65836735],\n",
       "       [5.78714286],\n",
       "       [5.91591837],\n",
       "       [6.04469388],\n",
       "       [6.17346939],\n",
       "       [6.3022449 ],\n",
       "       [6.43102041],\n",
       "       [6.55979592],\n",
       "       [6.68857143],\n",
       "       [6.81734694],\n",
       "       [6.94612245],\n",
       "       [7.07489796],\n",
       "       [7.20367347],\n",
       "       [7.33244898],\n",
       "       [7.46122449],\n",
       "       [7.59      ]])"
      ]
     },
     "metadata": {},
     "output_type": "display_data"
    }
   ],
   "source": [
    "display(\n",
    "    X_fertility.min(),\n",
    "    X_fertility.max(),\n",
    "    prediction_space,\n",
    ")"
   ]
  },
  {
   "cell_type": "code",
   "execution_count": null,
   "metadata": {},
   "outputs": [],
   "source": []
  },
  {
   "cell_type": "code",
   "execution_count": 15,
   "metadata": {},
   "outputs": [
    {
     "data": {
      "text/plain": [
       "LinearRegression(copy_X=True, fit_intercept=True, n_jobs=None, normalize=False)"
      ]
     },
     "execution_count": 15,
     "metadata": {},
     "output_type": "execute_result"
    }
   ],
   "source": [
    "reg = LinearRegression()\n",
    "reg.fit(X_fertility, y_life)"
   ]
  },
  {
   "cell_type": "code",
   "execution_count": 16,
   "metadata": {},
   "outputs": [
    {
     "data": {
      "text/plain": [
       "array([[77.26904851],\n",
       "       [76.69678573],\n",
       "       [76.12452294],\n",
       "       [75.55226016],\n",
       "       [74.97999737],\n",
       "       [74.40773459],\n",
       "       [73.83547181],\n",
       "       [73.26320902],\n",
       "       [72.69094624],\n",
       "       [72.11868345],\n",
       "       [71.54642067],\n",
       "       [70.97415788],\n",
       "       [70.4018951 ],\n",
       "       [69.82963232],\n",
       "       [69.25736953],\n",
       "       [68.68510675],\n",
       "       [68.11284396],\n",
       "       [67.54058118],\n",
       "       [66.9683184 ],\n",
       "       [66.39605561],\n",
       "       [65.82379283],\n",
       "       [65.25153004],\n",
       "       [64.67926726],\n",
       "       [64.10700447],\n",
       "       [63.53474169],\n",
       "       [62.96247891],\n",
       "       [62.39021612],\n",
       "       [61.81795334],\n",
       "       [61.24569055],\n",
       "       [60.67342777],\n",
       "       [60.10116498],\n",
       "       [59.5289022 ],\n",
       "       [58.95663942],\n",
       "       [58.38437663],\n",
       "       [57.81211385],\n",
       "       [57.23985106],\n",
       "       [56.66758828],\n",
       "       [56.0953255 ],\n",
       "       [55.52306271],\n",
       "       [54.95079993],\n",
       "       [54.37853714],\n",
       "       [53.80627436],\n",
       "       [53.23401157],\n",
       "       [52.66174879],\n",
       "       [52.08948601],\n",
       "       [51.51722322],\n",
       "       [50.94496044],\n",
       "       [50.37269765],\n",
       "       [49.80043487],\n",
       "       [49.22817208]])"
      ]
     },
     "execution_count": 16,
     "metadata": {},
     "output_type": "execute_result"
    }
   ],
   "source": [
    "y_pred = reg.predict(prediction_space)\n",
    "y_pred"
   ]
  },
  {
   "cell_type": "code",
   "execution_count": 18,
   "metadata": {},
   "outputs": [
    {
     "data": {
      "text/plain": [
       "0.6192"
      ]
     },
     "execution_count": 18,
     "metadata": {},
     "output_type": "execute_result"
    }
   ],
   "source": [
    "reg.score(X_fertility, y_life).round(4)"
   ]
  },
  {
   "cell_type": "markdown",
   "metadata": {},
   "source": [
    "# Pregunta 4"
   ]
  },
  {
   "cell_type": "code",
   "execution_count": 56,
   "metadata": {},
   "outputs": [],
   "source": [
    "def pregunta_04():\n",
    "    \"\"\"\n",
    "    Particionamiento del conjunto de datos usando train_test_split.\n",
    "    Complete el código presentado a continuación.\n",
    "    \"\"\"\n",
    "\n",
    "    # Importe LinearRegression\n",
    "    # Importe train_test_split\n",
    "    # Importe mean_squared_error\n",
    "    from sklearn.linear_model import LinearRegression\n",
    "    from sklearn.model_selection import train_test_split\n",
    "    from sklearn.metrics import mean_squared_error\n",
    "\n",
    "    # Lea el archivo `gm_2008_region.csv` y asignelo al DataFrame `df`\n",
    "    df = pd.read_csv(\n",
    "    \"gm_2008_region.csv\",\n",
    "    encoding = 'utf-8'\n",
    "    )\n",
    "\n",
    "    # Asigne a la variable los valores de la columna `fertility`\n",
    "    X_fertility = np.array(df['fertility']).reshape(-1,1)\n",
    "    y_life = np.array(df['life']).reshape(-1,1)\n",
    "\n",
    "    # Divida los datos de entrenamiento y prueba. La semilla del generador de números\n",
    "    # aleatorios es 53. El tamaño de la muestra de entrenamiento es del 80%\n",
    "    (X_train, X_test, y_train, y_test,) = train_test_split(\n",
    "        X_fertility,\n",
    "        y_life,\n",
    "        test_size=0.2,\n",
    "        random_state=53,\n",
    "    )\n",
    "\n",
    "    # Cree una instancia del modelo de regresión lineal\n",
    "    linearRegression = LinearRegression()\n",
    "\n",
    "    # Entrene el clasificador usando X_train y y_train\n",
    "    linearRegression.fit(X_train, y_train)\n",
    "\n",
    "    # Pronostique y_test usando X_test\n",
    "    y_pred = linearRegression.predict(X_test)\n",
    "\n",
    "    # Compute and print R^2 and RMSE\n",
    "    print(\"R^2: {:6.4f}\".format(linearRegression.score(X_test, y_test)))\n",
    "    rmse = np.sqrt(mean_squared_error(y_test, y_pred))\n",
    "    print(\"Root Mean Squared Error: {:6.4f}\".format(rmse))\n",
    "\n",
    "   \n"
   ]
  },
  {
   "cell_type": "code",
   "execution_count": 57,
   "metadata": {},
   "outputs": [
    {
     "name": "stdout",
     "output_type": "stream",
     "text": [
      "R^2: 0.6880\n",
      "Root Mean Squared Error: 4.7154\n"
     ]
    }
   ],
   "source": [
    "pregunta_04()"
   ]
  },
  {
   "cell_type": "code",
   "execution_count": null,
   "metadata": {},
   "outputs": [],
   "source": []
  },
  {
   "cell_type": "code",
   "execution_count": 21,
   "metadata": {},
   "outputs": [],
   "source": [
    "from sklearn.model_selection import train_test_split\n",
    "(X_train, X_test, y_train, y_test,) = train_test_split(\n",
    "    X_fertility,\n",
    "    y_life,\n",
    "    test_size=0.2,\n",
    "    random_state=53,\n",
    ")"
   ]
  },
  {
   "cell_type": "code",
   "execution_count": 25,
   "metadata": {},
   "outputs": [
    {
     "data": {
      "text/plain": [
       "(28, 1)"
      ]
     },
     "execution_count": 25,
     "metadata": {},
     "output_type": "execute_result"
    }
   ],
   "source": [
    "X_test.shape"
   ]
  },
  {
   "cell_type": "code",
   "execution_count": 27,
   "metadata": {},
   "outputs": [],
   "source": [
    " linearRegression = LinearRegression()"
   ]
  },
  {
   "cell_type": "code",
   "execution_count": 31,
   "metadata": {},
   "outputs": [
    {
     "data": {
      "text/plain": [
       "LinearRegression(copy_X=True, fit_intercept=True, n_jobs=None, normalize=False)"
      ]
     },
     "execution_count": 31,
     "metadata": {},
     "output_type": "execute_result"
    }
   ],
   "source": [
    "linearRegression.fit(X_train, y_train)"
   ]
  },
  {
   "cell_type": "code",
   "execution_count": 33,
   "metadata": {},
   "outputs": [],
   "source": [
    "y_pred = linearRegression.predict(X_test)\n",
    "from sklearn.metrics import mean_squared_error"
   ]
  },
  {
   "cell_type": "code",
   "execution_count": 34,
   "metadata": {},
   "outputs": [
    {
     "name": "stdout",
     "output_type": "stream",
     "text": [
      "R^2: 0.6880\n",
      "Root Mean Squared Error: 4.7154\n"
     ]
    }
   ],
   "source": [
    "print(\"R^2: {:6.4f}\".format(linearRegression.score(X_test, y_test)))\n",
    "rmse = np.sqrt(mean_squared_error(y_test, y_pred))\n",
    "print(\"Root Mean Squared Error: {:6.4f}\".format(rmse))"
   ]
  },
  {
   "cell_type": "markdown",
   "metadata": {},
   "source": [
    "## Analisis"
   ]
  },
  {
   "cell_type": "code",
   "execution_count": 36,
   "metadata": {},
   "outputs": [
    {
     "data": {
      "text/plain": [
       "[]"
      ]
     },
     "execution_count": 36,
     "metadata": {},
     "output_type": "execute_result"
    },
    {
     "data": {
      "image/png": "[encoded data removed]",
      "text/plain": [
       "<Figure size 504x504 with 1 Axes>"
      ]
     },
     "metadata": {
      "needs_background": "light"
     },
     "output_type": "display_data"
    }
   ],
   "source": [
    "import matplotlib.pyplot as plt\n",
    "from sklearn.datasets import make_regression\n",
    "\n",
    "\n",
    "\n",
    "plt.figure(figsize=(7, 7))\n",
    "plt.scatter(X_fertility, y_life, color=\"tab:blue\", alpha=0.8, edgecolors=\"white\")\n",
    "plt.gca().spines[\"left\"].set_color(\"gray\")\n",
    "plt.gca().spines[\"bottom\"].set_color(\"gray\")\n",
    "plt.gca().spines[\"top\"].set_visible(False)\n",
    "plt.gca().spines[\"right\"].set_visible(False)\n",
    "plt.plot()\n"
   ]
  },
  {
   "cell_type": "code",
   "execution_count": 38,
   "metadata": {},
   "outputs": [
    {
     "data": {
      "text/plain": [
       "(100, 1)"
      ]
     },
     "execution_count": 38,
     "metadata": {},
     "output_type": "execute_result"
    }
   ],
   "source": []
  },
  {
   "cell_type": "code",
   "execution_count": 38,
   "metadata": {},
   "outputs": [
    {
     "data": {
      "text/plain": [
       "array([[-4.46353851]])"
      ]
     },
     "metadata": {},
     "output_type": "display_data"
    },
    {
     "data": {
      "text/plain": [
       "array([83.02356141])"
      ]
     },
     "metadata": {},
     "output_type": "display_data"
    },
    {
     "data": {
      "text/plain": [
       "0.6880278426358649"
      ]
     },
     "metadata": {},
     "output_type": "display_data"
    }
   ],
   "source": [
    "from sklearn.linear_model import LinearRegression\n",
    "\n",
    "linearRegression = LinearRegression(\n",
    "    #\n",
    "    # Ajusta el intercepto?\n",
    "    fit_intercept=True,\n",
    "    #\n",
    "    # Normaliza los datos?\n",
    "    # Se ignora si fit_intercept=True.\n",
    "    normalize=False,\n",
    ")\n",
    "\n",
    "linearRegression.fit(X_train, y_train)\n",
    "\n",
    "display(\n",
    "    linearRegression.coef_,\n",
    "    linearRegression.intercept_,\n",
    "    linearRegression.score(X_test, y_test),\n",
    ")\n"
   ]
  },
  {
   "cell_type": "code",
   "execution_count": 40,
   "metadata": {},
   "outputs": [
    {
     "data": {
      "text/plain": [
       "LinearRegression(copy_X=True, fit_intercept=True, n_jobs=None, normalize=False)"
      ]
     },
     "execution_count": 40,
     "metadata": {},
     "output_type": "execute_result"
    }
   ],
   "source": [
    "linearRegression\n",
    "X_fertility, y_life"
   ]
  },
  {
   "cell_type": "code",
   "execution_count": 39,
   "metadata": {},
   "outputs": [
    {
     "data": {
      "image/png": "[encoded data removed]",
      "text/plain": [
       "<Figure size 504x504 with 1 Axes>"
      ]
     },
     "metadata": {
      "needs_background": "light"
     },
     "output_type": "display_data"
    }
   ],
   "source": [
    "line_X = np.linspace(X_fertility.min(), X_fertility.max())[:, np.newaxis]\n",
    "y_pred = linearRegression.predict(line_X)\n",
    "\n",
    "plt.figure(figsize=(7, 7))\n",
    "\n",
    "plt.scatter(X_fertility, y_life, color=\"tab:blue\", alpha=0.8, edgecolors=\"white\")\n",
    "plt.plot(line_X, y_pred, \"k\", linewidth=2)\n",
    "\n",
    "plt.gca().spines[\"left\"].set_color(\"gray\")\n",
    "plt.gca().spines[\"bottom\"].set_color(\"gray\")\n",
    "plt.gca().spines[\"top\"].set_visible(False)\n",
    "plt.gca().spines[\"right\"].set_visible(False)\n",
    "\n",
    "plt.show()"
   ]
  },
  {
   "cell_type": "code",
   "execution_count": 40,
   "metadata": {},
   "outputs": [
    {
     "data": {
      "text/plain": [
       "[]"
      ]
     },
     "execution_count": 40,
     "metadata": {},
     "output_type": "execute_result"
    },
    {
     "data": {
      "image/png": "[encoded data removed]",
      "text/plain": [
       "<Figure size 504x504 with 1 Axes>"
      ]
     },
     "metadata": {
      "needs_background": "light"
     },
     "output_type": "display_data"
    }
   ],
   "source": [
    "plt.figure(figsize=(7, 7))\n",
    "plt.scatter(X_test, y_test, color=\"tab:blue\", alpha=0.8, edgecolors=\"white\")\n",
    "plt.gca().spines[\"left\"].set_color(\"gray\")\n",
    "plt.gca().spines[\"bottom\"].set_color(\"gray\")\n",
    "plt.gca().spines[\"top\"].set_visible(False)\n",
    "plt.gca().spines[\"right\"].set_visible(False)\n",
    "plt.plot()"
   ]
  },
  {
   "cell_type": "code",
   "execution_count": 45,
   "metadata": {},
   "outputs": [
    {
     "data": {
      "text/plain": [
       "[]"
      ]
     },
     "execution_count": 45,
     "metadata": {},
     "output_type": "execute_result"
    },
    {
     "data": {
      "image/png": "[encoded data removed]",
      "text/plain": [
       "<Figure size 504x504 with 1 Axes>"
      ]
     },
     "metadata": {
      "needs_background": "light"
     },
     "output_type": "display_data"
    }
   ],
   "source": [
    "linearRegression.fit(X_train, y_train)\n",
    "y_pred = linearRegression.predict(X_test)\n",
    "plt.figure(figsize=(7, 7))\n",
    "plt.scatter(X_test, y_pred, color=\"tab:green\", alpha=0.8, edgecolors=\"white\")\n",
    "plt.scatter(X_test, y_test, color=\"tab:gray\", alpha=0.8, edgecolors=\"white\")\n",
    "plt.gca().spines[\"left\"].set_color(\"gray\")\n",
    "plt.gca().spines[\"bottom\"].set_color(\"gray\")\n",
    "plt.gca().spines[\"top\"].set_visible(False)\n",
    "plt.gca().spines[\"right\"].set_visible(False)\n",
    "plt.plot()"
   ]
  },
  {
   "cell_type": "code",
   "execution_count": null,
   "metadata": {},
   "outputs": [],
   "source": []
  }
 ],
 "metadata": {
  "kernelspec": {
   "display_name": "Python 3",
   "language": "python",
   "name": "python3"
  },
  "language_info": {
   "codemirror_mode": {
    "name": "ipython",
    "version": 3
   },
   "file_extension": ".py",
   "mimetype": "text/x-python",
   "name": "python",
   "nbconvert_exporter": "python",
   "pygments_lexer": "ipython3",
   "version": "3.7.1"
  }
 },
 "nbformat": 4,
 "nbformat_minor": 2
}
